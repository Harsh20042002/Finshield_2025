{
 "cells": [
  {
   "cell_type": "code",
   "execution_count": 33,
   "id": "77f10ed4",
   "metadata": {},
   "outputs": [],
   "source": [
    "import pickle\n",
    "import requests\n",
    "import pandas as pd\n",
    "from flask import Flask,jsonify, request\n",
    "import joblib\n",
    "from flask_cors import CORS"
   ]
  },
  {
   "cell_type": "code",
   "execution_count": 35,
   "id": "e4badcb4",
   "metadata": {},
   "outputs": [],
   "source": [
    "# Load model\n",
    "with open(\"lightgbm_model.pkl\", \"rb\") as f:\n",
    "    model = pickle.load(f)\n",
    "\n",
    "# Load scaler\n",
    "with open(\"scaler.pkl\", \"rb\") as f:\n",
    "    scaler = joblib.load(f)"
   ]
  },
  {
   "cell_type": "code",
   "execution_count": null,
   "id": "e6e746b3",
   "metadata": {},
   "outputs": [
    {
     "name": "stdout",
     "output_type": "stream",
     "text": [
      " * Serving Flask app '__main__'\n",
      " * Debug mode: off\n"
     ]
    },
    {
     "name": "stderr",
     "output_type": "stream",
     "text": [
      "WARNING: This is a development server. Do not use it in a production deployment. Use a production WSGI server instead.\n",
      " * Running on http://127.0.0.1:5000\n",
      "Press CTRL+C to quit\n",
      "127.0.0.1 - - [02/Sep/2025 01:05:02] \"OPTIONS /predictpod HTTP/1.1\" 200 -\n",
      "[2025-09-02 01:05:02,060] ERROR in app: Exception on /predictpod [POST]\n",
      "Traceback (most recent call last):\n",
      "  File \"C:\\Users\\KIIT\\AppData\\Local\\Packages\\PythonSoftwareFoundation.Python.3.12_qbz5n2kfra8p0\\LocalCache\\local-packages\\Python312\\site-packages\\flask\\app.py\", line 1473, in wsgi_app\n",
      "    response = self.full_dispatch_request()\n",
      "               ^^^^^^^^^^^^^^^^^^^^^^^^^^^^\n",
      "  File \"C:\\Users\\KIIT\\AppData\\Local\\Packages\\PythonSoftwareFoundation.Python.3.12_qbz5n2kfra8p0\\LocalCache\\local-packages\\Python312\\site-packages\\flask\\app.py\", line 882, in full_dispatch_request\n",
      "    rv = self.handle_user_exception(e)\n",
      "         ^^^^^^^^^^^^^^^^^^^^^^^^^^^^^\n",
      "  File \"C:\\Users\\KIIT\\AppData\\Local\\Packages\\PythonSoftwareFoundation.Python.3.12_qbz5n2kfra8p0\\LocalCache\\local-packages\\Python312\\site-packages\\flask_cors\\extension.py\", line 178, in wrapped_function\n",
      "    return cors_after_request(app.make_response(f(*args, **kwargs)))\n",
      "                                                ^^^^^^^^^^^^^^^^^^\n",
      "  File \"C:\\Users\\KIIT\\AppData\\Local\\Packages\\PythonSoftwareFoundation.Python.3.12_qbz5n2kfra8p0\\LocalCache\\local-packages\\Python312\\site-packages\\flask\\app.py\", line 880, in full_dispatch_request\n",
      "    rv = self.dispatch_request()\n",
      "         ^^^^^^^^^^^^^^^^^^^^^^^\n",
      "  File \"C:\\Users\\KIIT\\AppData\\Local\\Packages\\PythonSoftwareFoundation.Python.3.12_qbz5n2kfra8p0\\LocalCache\\local-packages\\Python312\\site-packages\\flask\\app.py\", line 865, in dispatch_request\n",
      "    return self.ensure_sync(self.view_functions[rule.endpoint])(**view_args)  # type: ignore[no-any-return]\n",
      "           ^^^^^^^^^^^^^^^^^^^^^^^^^^^^^^^^^^^^^^^^^^^^^^^^^^^^^^^^^^^^^^^^^\n",
      "  File \"C:\\Users\\KIIT\\AppData\\Local\\Temp\\ipykernel_12004\\2255091930.py\", line 19, in predictpod\n",
      "    df_scaled = scaler.transform(df)\n",
      "                ^^^^^^^^^^^^^^^^^^^^\n",
      "  File \"C:\\Users\\KIIT\\AppData\\Local\\Packages\\PythonSoftwareFoundation.Python.3.12_qbz5n2kfra8p0\\LocalCache\\local-packages\\Python312\\site-packages\\sklearn\\utils\\_set_output.py\", line 313, in wrapped\n",
      "    data_to_wrap = f(self, X, *args, **kwargs)\n",
      "                   ^^^^^^^^^^^^^^^^^^^^^^^^^^^\n",
      "  File \"C:\\Users\\KIIT\\AppData\\Local\\Packages\\PythonSoftwareFoundation.Python.3.12_qbz5n2kfra8p0\\LocalCache\\local-packages\\Python312\\site-packages\\sklearn\\preprocessing\\_data.py\", line 1045, in transform\n",
      "    X = self._validate_data(\n",
      "        ^^^^^^^^^^^^^^^^^^^^\n",
      "  File \"C:\\Users\\KIIT\\AppData\\Local\\Packages\\PythonSoftwareFoundation.Python.3.12_qbz5n2kfra8p0\\LocalCache\\local-packages\\Python312\\site-packages\\sklearn\\base.py\", line 633, in _validate_data\n",
      "    out = check_array(X, input_name=\"X\", **check_params)\n",
      "          ^^^^^^^^^^^^^^^^^^^^^^^^^^^^^^^^^^^^^^^^^^^^^^\n",
      "  File \"C:\\Users\\KIIT\\AppData\\Local\\Packages\\PythonSoftwareFoundation.Python.3.12_qbz5n2kfra8p0\\LocalCache\\local-packages\\Python312\\site-packages\\sklearn\\utils\\validation.py\", line 1012, in check_array\n",
      "    array = _asarray_with_order(array, order=order, dtype=dtype, xp=xp)\n",
      "            ^^^^^^^^^^^^^^^^^^^^^^^^^^^^^^^^^^^^^^^^^^^^^^^^^^^^^^^^^^^\n",
      "  File \"C:\\Users\\KIIT\\AppData\\Local\\Packages\\PythonSoftwareFoundation.Python.3.12_qbz5n2kfra8p0\\LocalCache\\local-packages\\Python312\\site-packages\\sklearn\\utils\\_array_api.py\", line 751, in _asarray_with_order\n",
      "    array = numpy.asarray(array, order=order, dtype=dtype)\n",
      "            ^^^^^^^^^^^^^^^^^^^^^^^^^^^^^^^^^^^^^^^^^^^^^^\n",
      "  File \"C:\\Users\\KIIT\\AppData\\Local\\Packages\\PythonSoftwareFoundation.Python.3.12_qbz5n2kfra8p0\\LocalCache\\local-packages\\Python312\\site-packages\\pandas\\core\\generic.py\", line 2153, in __array__\n",
      "    arr = np.asarray(values, dtype=dtype)\n",
      "          ^^^^^^^^^^^^^^^^^^^^^^^^^^^^^^^\n",
      "ValueError: could not convert string to float: 'Male'\n",
      "127.0.0.1 - - [02/Sep/2025 01:05:02] \"POST /predictpod HTTP/1.1\" 500 -\n"
     ]
    },
    {
     "name": "stdout",
     "output_type": "stream",
     "text": [
      "{'Age': 111, 'Gender': 'Male', 'Marital_Status': 'Single', 'Education_Level': 'High School', 'Employment_Status': 'Employed', 'Occupation': 'nn', 'Annual_Income': 33, 'Household_Size': 11, 'Dependents': 33, 'Home_Ownership': 'Own', 'Residence_Type': 'Apartment', 'Credit_History_Length': 33, 'Number_of_Credit_Cards': 33, 'Number_of_Loans': 33, 'Debt_to_Income_Ratio': 33, 'Total_Debt': 33, 'EMI': 33, 'Loan_Amount_Requested': 444, 'Repayment_Period_Months': 44, 'Credit_Card_Utilization_Rate': 33, 'Bank_Balance': 44, 'Savings_Balance': 44, 'Credit_Inquiries_Last12m': 33, 'OnTime_Payment_Rate': 33, 'Mobile_Data_Usage_GB': 44, 'Monthly_Call_Minutes': 4444, 'Monthly_SMS_Count': 44, 'No_of_Social_Accounts': 44, 'Avg_Daily_Social_Usage_Min': 4444, 'Facebook_Friends_Count': 444, 'Instagram_Followers_Count': 44, 'Monthly_Ecommerce_Spend': 44, 'Subscription_Service_Count': 44, 'Installment_Purchase_Count': 44, 'Avg_UPI_Transactions': 44, 'UPI_Count': 444, 'Avg_Monthly_UPI_Transaction_Value': 44, 'Utility_Bill_Payment_Timeliness': 'On time', 'SIM_Swap_History': 'None', 'No_of_Devices_Linked': 22}\n"
     ]
    },
    {
     "name": "stderr",
     "output_type": "stream",
     "text": [
      "127.0.0.1 - - [02/Sep/2025 01:38:30] \"OPTIONS /predictpod HTTP/1.1\" 200 -\n",
      "[2025-09-02 01:38:30,269] ERROR in app: Exception on /predictpod [POST]\n",
      "Traceback (most recent call last):\n",
      "  File \"C:\\Users\\KIIT\\AppData\\Local\\Packages\\PythonSoftwareFoundation.Python.3.12_qbz5n2kfra8p0\\LocalCache\\local-packages\\Python312\\site-packages\\flask\\app.py\", line 1473, in wsgi_app\n",
      "    response = self.full_dispatch_request()\n",
      "               ^^^^^^^^^^^^^^^^^^^^^^^^^^^^\n",
      "  File \"C:\\Users\\KIIT\\AppData\\Local\\Packages\\PythonSoftwareFoundation.Python.3.12_qbz5n2kfra8p0\\LocalCache\\local-packages\\Python312\\site-packages\\flask\\app.py\", line 882, in full_dispatch_request\n",
      "    rv = self.handle_user_exception(e)\n",
      "         ^^^^^^^^^^^^^^^^^^^^^^^^^^^^^\n",
      "  File \"C:\\Users\\KIIT\\AppData\\Local\\Packages\\PythonSoftwareFoundation.Python.3.12_qbz5n2kfra8p0\\LocalCache\\local-packages\\Python312\\site-packages\\flask_cors\\extension.py\", line 178, in wrapped_function\n",
      "    return cors_after_request(app.make_response(f(*args, **kwargs)))\n",
      "                                                ^^^^^^^^^^^^^^^^^^\n",
      "  File \"C:\\Users\\KIIT\\AppData\\Local\\Packages\\PythonSoftwareFoundation.Python.3.12_qbz5n2kfra8p0\\LocalCache\\local-packages\\Python312\\site-packages\\flask\\app.py\", line 880, in full_dispatch_request\n",
      "    rv = self.dispatch_request()\n",
      "         ^^^^^^^^^^^^^^^^^^^^^^^\n",
      "  File \"C:\\Users\\KIIT\\AppData\\Local\\Packages\\PythonSoftwareFoundation.Python.3.12_qbz5n2kfra8p0\\LocalCache\\local-packages\\Python312\\site-packages\\flask\\app.py\", line 865, in dispatch_request\n",
      "    return self.ensure_sync(self.view_functions[rule.endpoint])(**view_args)  # type: ignore[no-any-return]\n",
      "           ^^^^^^^^^^^^^^^^^^^^^^^^^^^^^^^^^^^^^^^^^^^^^^^^^^^^^^^^^^^^^^^^^\n",
      "  File \"C:\\Users\\KIIT\\AppData\\Local\\Temp\\ipykernel_12004\\2255091930.py\", line 19, in predictpod\n",
      "    df_scaled = scaler.transform(df)\n",
      "                ^^^^^^^^^^^^^^^^^^^^\n",
      "  File \"C:\\Users\\KIIT\\AppData\\Local\\Packages\\PythonSoftwareFoundation.Python.3.12_qbz5n2kfra8p0\\LocalCache\\local-packages\\Python312\\site-packages\\sklearn\\utils\\_set_output.py\", line 313, in wrapped\n",
      "    data_to_wrap = f(self, X, *args, **kwargs)\n",
      "                   ^^^^^^^^^^^^^^^^^^^^^^^^^^^\n",
      "  File \"C:\\Users\\KIIT\\AppData\\Local\\Packages\\PythonSoftwareFoundation.Python.3.12_qbz5n2kfra8p0\\LocalCache\\local-packages\\Python312\\site-packages\\sklearn\\preprocessing\\_data.py\", line 1045, in transform\n",
      "    X = self._validate_data(\n",
      "        ^^^^^^^^^^^^^^^^^^^^\n",
      "  File \"C:\\Users\\KIIT\\AppData\\Local\\Packages\\PythonSoftwareFoundation.Python.3.12_qbz5n2kfra8p0\\LocalCache\\local-packages\\Python312\\site-packages\\sklearn\\base.py\", line 633, in _validate_data\n",
      "    out = check_array(X, input_name=\"X\", **check_params)\n",
      "          ^^^^^^^^^^^^^^^^^^^^^^^^^^^^^^^^^^^^^^^^^^^^^^\n",
      "  File \"C:\\Users\\KIIT\\AppData\\Local\\Packages\\PythonSoftwareFoundation.Python.3.12_qbz5n2kfra8p0\\LocalCache\\local-packages\\Python312\\site-packages\\sklearn\\utils\\validation.py\", line 1012, in check_array\n",
      "    array = _asarray_with_order(array, order=order, dtype=dtype, xp=xp)\n",
      "            ^^^^^^^^^^^^^^^^^^^^^^^^^^^^^^^^^^^^^^^^^^^^^^^^^^^^^^^^^^^\n",
      "  File \"C:\\Users\\KIIT\\AppData\\Local\\Packages\\PythonSoftwareFoundation.Python.3.12_qbz5n2kfra8p0\\LocalCache\\local-packages\\Python312\\site-packages\\sklearn\\utils\\_array_api.py\", line 751, in _asarray_with_order\n",
      "    array = numpy.asarray(array, order=order, dtype=dtype)\n",
      "            ^^^^^^^^^^^^^^^^^^^^^^^^^^^^^^^^^^^^^^^^^^^^^^\n",
      "  File \"C:\\Users\\KIIT\\AppData\\Local\\Packages\\PythonSoftwareFoundation.Python.3.12_qbz5n2kfra8p0\\LocalCache\\local-packages\\Python312\\site-packages\\pandas\\core\\generic.py\", line 2153, in __array__\n",
      "    arr = np.asarray(values, dtype=dtype)\n",
      "          ^^^^^^^^^^^^^^^^^^^^^^^^^^^^^^^\n",
      "ValueError: could not convert string to float: 'Male'\n",
      "127.0.0.1 - - [02/Sep/2025 01:38:30] \"POST /predictpod HTTP/1.1\" 500 -\n"
     ]
    },
    {
     "name": "stdout",
     "output_type": "stream",
     "text": [
      "{'Age': 111, 'Gender': 'Male', 'Marital_Status': 'Single', 'Education_Level': 'High School', 'Employment_Status': 'Employed', 'Occupation': 'nn', 'Annual_Income': 33, 'Household_Size': 11, 'Dependents': 33, 'Home_Ownership': 'Own', 'Residence_Type': 'Apartment', 'Credit_History_Length': 33, 'Number_of_Credit_Cards': 33, 'Number_of_Loans': 33, 'Debt_to_Income_Ratio': 33, 'Total_Debt': 33, 'EMI': 33, 'Loan_Amount_Requested': 444, 'Repayment_Period_Months': 44, 'Credit_Card_Utilization_Rate': 33, 'Bank_Balance': 44, 'Savings_Balance': 44, 'Credit_Inquiries_Last12m': 33, 'OnTime_Payment_Rate': 33, 'Mobile_Data_Usage_GB': 44, 'Monthly_Call_Minutes': 4444, 'Monthly_SMS_Count': 44, 'No_of_Social_Accounts': 44, 'Avg_Daily_Social_Usage_Min': 4444, 'Facebook_Friends_Count': 444, 'Instagram_Followers_Count': 44, 'Monthly_Ecommerce_Spend': 44, 'Subscription_Service_Count': 44, 'Installment_Purchase_Count': 44, 'Avg_UPI_Transactions': 44, 'UPI_Count': 444, 'Avg_Monthly_UPI_Transaction_Value': 44, 'Utility_Bill_Payment_Timeliness': 'On time', 'SIM_Swap_History': 'None', 'No_of_Devices_Linked': 22}\n"
     ]
    },
    {
     "name": "stderr",
     "output_type": "stream",
     "text": [
      "127.0.0.1 - - [02/Sep/2025 01:39:04] \"OPTIONS /predictpod HTTP/1.1\" 200 -\n",
      "[2025-09-02 01:39:04,577] ERROR in app: Exception on /predictpod [POST]\n",
      "Traceback (most recent call last):\n",
      "  File \"C:\\Users\\KIIT\\AppData\\Local\\Packages\\PythonSoftwareFoundation.Python.3.12_qbz5n2kfra8p0\\LocalCache\\local-packages\\Python312\\site-packages\\flask\\app.py\", line 1473, in wsgi_app\n",
      "    response = self.full_dispatch_request()\n",
      "               ^^^^^^^^^^^^^^^^^^^^^^^^^^^^\n",
      "  File \"C:\\Users\\KIIT\\AppData\\Local\\Packages\\PythonSoftwareFoundation.Python.3.12_qbz5n2kfra8p0\\LocalCache\\local-packages\\Python312\\site-packages\\flask\\app.py\", line 882, in full_dispatch_request\n",
      "    rv = self.handle_user_exception(e)\n",
      "         ^^^^^^^^^^^^^^^^^^^^^^^^^^^^^\n",
      "  File \"C:\\Users\\KIIT\\AppData\\Local\\Packages\\PythonSoftwareFoundation.Python.3.12_qbz5n2kfra8p0\\LocalCache\\local-packages\\Python312\\site-packages\\flask_cors\\extension.py\", line 178, in wrapped_function\n",
      "    return cors_after_request(app.make_response(f(*args, **kwargs)))\n",
      "                                                ^^^^^^^^^^^^^^^^^^\n",
      "  File \"C:\\Users\\KIIT\\AppData\\Local\\Packages\\PythonSoftwareFoundation.Python.3.12_qbz5n2kfra8p0\\LocalCache\\local-packages\\Python312\\site-packages\\flask\\app.py\", line 880, in full_dispatch_request\n",
      "    rv = self.dispatch_request()\n",
      "         ^^^^^^^^^^^^^^^^^^^^^^^\n",
      "  File \"C:\\Users\\KIIT\\AppData\\Local\\Packages\\PythonSoftwareFoundation.Python.3.12_qbz5n2kfra8p0\\LocalCache\\local-packages\\Python312\\site-packages\\flask\\app.py\", line 865, in dispatch_request\n",
      "    return self.ensure_sync(self.view_functions[rule.endpoint])(**view_args)  # type: ignore[no-any-return]\n",
      "           ^^^^^^^^^^^^^^^^^^^^^^^^^^^^^^^^^^^^^^^^^^^^^^^^^^^^^^^^^^^^^^^^^\n",
      "  File \"C:\\Users\\KIIT\\AppData\\Local\\Temp\\ipykernel_12004\\2255091930.py\", line 19, in predictpod\n",
      "    df_scaled = scaler.transform(df)\n",
      "                ^^^^^^^^^^^^^^^^^^^^\n",
      "  File \"C:\\Users\\KIIT\\AppData\\Local\\Packages\\PythonSoftwareFoundation.Python.3.12_qbz5n2kfra8p0\\LocalCache\\local-packages\\Python312\\site-packages\\sklearn\\utils\\_set_output.py\", line 313, in wrapped\n",
      "    data_to_wrap = f(self, X, *args, **kwargs)\n",
      "                   ^^^^^^^^^^^^^^^^^^^^^^^^^^^\n",
      "  File \"C:\\Users\\KIIT\\AppData\\Local\\Packages\\PythonSoftwareFoundation.Python.3.12_qbz5n2kfra8p0\\LocalCache\\local-packages\\Python312\\site-packages\\sklearn\\preprocessing\\_data.py\", line 1045, in transform\n",
      "    X = self._validate_data(\n",
      "        ^^^^^^^^^^^^^^^^^^^^\n",
      "  File \"C:\\Users\\KIIT\\AppData\\Local\\Packages\\PythonSoftwareFoundation.Python.3.12_qbz5n2kfra8p0\\LocalCache\\local-packages\\Python312\\site-packages\\sklearn\\base.py\", line 633, in _validate_data\n",
      "    out = check_array(X, input_name=\"X\", **check_params)\n",
      "          ^^^^^^^^^^^^^^^^^^^^^^^^^^^^^^^^^^^^^^^^^^^^^^\n",
      "  File \"C:\\Users\\KIIT\\AppData\\Local\\Packages\\PythonSoftwareFoundation.Python.3.12_qbz5n2kfra8p0\\LocalCache\\local-packages\\Python312\\site-packages\\sklearn\\utils\\validation.py\", line 1012, in check_array\n",
      "    array = _asarray_with_order(array, order=order, dtype=dtype, xp=xp)\n",
      "            ^^^^^^^^^^^^^^^^^^^^^^^^^^^^^^^^^^^^^^^^^^^^^^^^^^^^^^^^^^^\n",
      "  File \"C:\\Users\\KIIT\\AppData\\Local\\Packages\\PythonSoftwareFoundation.Python.3.12_qbz5n2kfra8p0\\LocalCache\\local-packages\\Python312\\site-packages\\sklearn\\utils\\_array_api.py\", line 751, in _asarray_with_order\n",
      "    array = numpy.asarray(array, order=order, dtype=dtype)\n",
      "            ^^^^^^^^^^^^^^^^^^^^^^^^^^^^^^^^^^^^^^^^^^^^^^\n",
      "  File \"C:\\Users\\KIIT\\AppData\\Local\\Packages\\PythonSoftwareFoundation.Python.3.12_qbz5n2kfra8p0\\LocalCache\\local-packages\\Python312\\site-packages\\pandas\\core\\generic.py\", line 2153, in __array__\n",
      "    arr = np.asarray(values, dtype=dtype)\n",
      "          ^^^^^^^^^^^^^^^^^^^^^^^^^^^^^^^\n",
      "ValueError: could not convert string to float: 'Employed'\n",
      "127.0.0.1 - - [02/Sep/2025 01:39:04] \"POST /predictpod HTTP/1.1\" 500 -\n"
     ]
    },
    {
     "name": "stdout",
     "output_type": "stream",
     "text": [
      "{'Age': 69, 'Gender': 0, 'Marital_Status': 1, 'Education_Level': 0, 'Employment_Status': 'Employed', 'Occupation': 'nn', 'Annual_Income': 33, 'Household_Size': 11, 'Dependents': 33, 'Home_Ownership': 0, 'Residence_Type': 'Apartment', 'Credit_History_Length': 33, 'Number_of_Credit_Cards': 33, 'Number_of_Loans': 33, 'Debt_to_Income_Ratio': 33, 'Total_Debt': 33, 'EMI': 33, 'Loan_Amount_Requested': 444, 'Repayment_Period_Months': 44, 'Credit_Card_Utilization_Rate': 33, 'Bank_Balance': 44, 'Savings_Balance': 44, 'Credit_Inquiries_Last12m': 33, 'OnTime_Payment_Rate': 33, 'Mobile_Data_Usage_GB': 44, 'Monthly_Call_Minutes': 4444, 'Monthly_SMS_Count': 44, 'No_of_Social_Accounts': 44, 'Avg_Daily_Social_Usage_Min': 4444, 'Facebook_Friends_Count': 444, 'Instagram_Followers_Count': 44, 'Monthly_Ecommerce_Spend': 44, 'Subscription_Service_Count': 44, 'Installment_Purchase_Count': 44, 'Avg_UPI_Transactions': 44, 'UPI_Count': 444, 'Avg_Monthly_UPI_Transaction_Value': 44, 'Utility_Bill_Payment_Timeliness': 'On time', 'SIM_Swap_History': 'None', 'No_of_Devices_Linked': 22}\n"
     ]
    },
    {
     "name": "stderr",
     "output_type": "stream",
     "text": [
      "127.0.0.1 - - [02/Sep/2025 01:46:27] \"OPTIONS /predictpod HTTP/1.1\" 200 -\n",
      "[2025-09-02 01:46:27,657] ERROR in app: Exception on /predictpod [POST]\n",
      "Traceback (most recent call last):\n",
      "  File \"C:\\Users\\KIIT\\AppData\\Local\\Packages\\PythonSoftwareFoundation.Python.3.12_qbz5n2kfra8p0\\LocalCache\\local-packages\\Python312\\site-packages\\flask\\app.py\", line 1473, in wsgi_app\n",
      "    response = self.full_dispatch_request()\n",
      "               ^^^^^^^^^^^^^^^^^^^^^^^^^^^^\n",
      "  File \"C:\\Users\\KIIT\\AppData\\Local\\Packages\\PythonSoftwareFoundation.Python.3.12_qbz5n2kfra8p0\\LocalCache\\local-packages\\Python312\\site-packages\\flask\\app.py\", line 882, in full_dispatch_request\n",
      "    rv = self.handle_user_exception(e)\n",
      "         ^^^^^^^^^^^^^^^^^^^^^^^^^^^^^\n",
      "  File \"C:\\Users\\KIIT\\AppData\\Local\\Packages\\PythonSoftwareFoundation.Python.3.12_qbz5n2kfra8p0\\LocalCache\\local-packages\\Python312\\site-packages\\flask_cors\\extension.py\", line 178, in wrapped_function\n",
      "    return cors_after_request(app.make_response(f(*args, **kwargs)))\n",
      "                                                ^^^^^^^^^^^^^^^^^^\n",
      "  File \"C:\\Users\\KIIT\\AppData\\Local\\Packages\\PythonSoftwareFoundation.Python.3.12_qbz5n2kfra8p0\\LocalCache\\local-packages\\Python312\\site-packages\\flask\\app.py\", line 880, in full_dispatch_request\n",
      "    rv = self.dispatch_request()\n",
      "         ^^^^^^^^^^^^^^^^^^^^^^^\n",
      "  File \"C:\\Users\\KIIT\\AppData\\Local\\Packages\\PythonSoftwareFoundation.Python.3.12_qbz5n2kfra8p0\\LocalCache\\local-packages\\Python312\\site-packages\\flask\\app.py\", line 865, in dispatch_request\n",
      "    return self.ensure_sync(self.view_functions[rule.endpoint])(**view_args)  # type: ignore[no-any-return]\n",
      "           ^^^^^^^^^^^^^^^^^^^^^^^^^^^^^^^^^^^^^^^^^^^^^^^^^^^^^^^^^^^^^^^^^\n",
      "  File \"C:\\Users\\KIIT\\AppData\\Local\\Temp\\ipykernel_12004\\2255091930.py\", line 19, in predictpod\n",
      "    df_scaled = scaler.transform(df)\n",
      "                ^^^^^^^^^^^^^^^^^^^^\n",
      "  File \"C:\\Users\\KIIT\\AppData\\Local\\Packages\\PythonSoftwareFoundation.Python.3.12_qbz5n2kfra8p0\\LocalCache\\local-packages\\Python312\\site-packages\\sklearn\\utils\\_set_output.py\", line 313, in wrapped\n",
      "    data_to_wrap = f(self, X, *args, **kwargs)\n",
      "                   ^^^^^^^^^^^^^^^^^^^^^^^^^^^\n",
      "  File \"C:\\Users\\KIIT\\AppData\\Local\\Packages\\PythonSoftwareFoundation.Python.3.12_qbz5n2kfra8p0\\LocalCache\\local-packages\\Python312\\site-packages\\sklearn\\preprocessing\\_data.py\", line 1045, in transform\n",
      "    X = self._validate_data(\n",
      "        ^^^^^^^^^^^^^^^^^^^^\n",
      "  File \"C:\\Users\\KIIT\\AppData\\Local\\Packages\\PythonSoftwareFoundation.Python.3.12_qbz5n2kfra8p0\\LocalCache\\local-packages\\Python312\\site-packages\\sklearn\\base.py\", line 633, in _validate_data\n",
      "    out = check_array(X, input_name=\"X\", **check_params)\n",
      "          ^^^^^^^^^^^^^^^^^^^^^^^^^^^^^^^^^^^^^^^^^^^^^^\n",
      "  File \"C:\\Users\\KIIT\\AppData\\Local\\Packages\\PythonSoftwareFoundation.Python.3.12_qbz5n2kfra8p0\\LocalCache\\local-packages\\Python312\\site-packages\\sklearn\\utils\\validation.py\", line 1012, in check_array\n",
      "    array = _asarray_with_order(array, order=order, dtype=dtype, xp=xp)\n",
      "            ^^^^^^^^^^^^^^^^^^^^^^^^^^^^^^^^^^^^^^^^^^^^^^^^^^^^^^^^^^^\n",
      "  File \"C:\\Users\\KIIT\\AppData\\Local\\Packages\\PythonSoftwareFoundation.Python.3.12_qbz5n2kfra8p0\\LocalCache\\local-packages\\Python312\\site-packages\\sklearn\\utils\\_array_api.py\", line 751, in _asarray_with_order\n",
      "    array = numpy.asarray(array, order=order, dtype=dtype)\n",
      "            ^^^^^^^^^^^^^^^^^^^^^^^^^^^^^^^^^^^^^^^^^^^^^^\n",
      "  File \"C:\\Users\\KIIT\\AppData\\Local\\Packages\\PythonSoftwareFoundation.Python.3.12_qbz5n2kfra8p0\\LocalCache\\local-packages\\Python312\\site-packages\\pandas\\core\\generic.py\", line 2153, in __array__\n",
      "    arr = np.asarray(values, dtype=dtype)\n",
      "          ^^^^^^^^^^^^^^^^^^^^^^^^^^^^^^^\n",
      "ValueError: could not convert string to float: 'Employed'\n",
      "127.0.0.1 - - [02/Sep/2025 01:46:27] \"POST /predictpod HTTP/1.1\" 500 -\n"
     ]
    },
    {
     "name": "stdout",
     "output_type": "stream",
     "text": [
      "{'Age': 69, 'Gender': 0, 'Marital_Status': 1, 'Education_Level': 0, 'Employment_Status': 'Employed', 'Occupation': 'nn', 'Annual_Income': 33, 'Household_Size': 11, 'Dependents': 33, 'Home_Ownership': 0, 'Residence_Type': 'Apartment', 'Credit_History_Length': 33, 'Number_of_Credit_Cards': 33, 'Number_of_Loans': 33, 'Debt_to_Income_Ratio': 33, 'Total_Debt': 33, 'EMI': 33, 'Loan_Amount_Requested': 444, 'Repayment_Period_Months': 44, 'Credit_Card_Utilization_Rate': 33, 'Bank_Balance': 44, 'Savings_Balance': 44, 'Credit_Inquiries_Last12m': 33, 'OnTime_Payment_Rate': 33, 'Mobile_Data_Usage_GB': 44, 'Monthly_Call_Minutes': 4444, 'Monthly_SMS_Count': 44, 'No_of_Social_Accounts': 44, 'Avg_Daily_Social_Usage_Min': 4444, 'Facebook_Friends_Count': 444, 'Instagram_Followers_Count': 44, 'Monthly_Ecommerce_Spend': 44, 'Subscription_Service_Count': 44, 'Installment_Purchase_Count': 44, 'Avg_UPI_Transactions': 44, 'UPI_Count': 444, 'Avg_Monthly_UPI_Transaction_Value': 44, 'Utility_Bill_Payment_Timeliness': 'On time', 'SIM_Swap_History': 'None', 'No_of_Devices_Linked': 22}\n"
     ]
    },
    {
     "name": "stderr",
     "output_type": "stream",
     "text": [
      "127.0.0.1 - - [02/Sep/2025 01:46:32] \"OPTIONS /predictpod HTTP/1.1\" 200 -\n",
      "[2025-09-02 01:46:32,676] ERROR in app: Exception on /predictpod [POST]\n",
      "Traceback (most recent call last):\n",
      "  File \"C:\\Users\\KIIT\\AppData\\Local\\Packages\\PythonSoftwareFoundation.Python.3.12_qbz5n2kfra8p0\\LocalCache\\local-packages\\Python312\\site-packages\\flask\\app.py\", line 1473, in wsgi_app\n",
      "    response = self.full_dispatch_request()\n",
      "               ^^^^^^^^^^^^^^^^^^^^^^^^^^^^\n",
      "  File \"C:\\Users\\KIIT\\AppData\\Local\\Packages\\PythonSoftwareFoundation.Python.3.12_qbz5n2kfra8p0\\LocalCache\\local-packages\\Python312\\site-packages\\flask\\app.py\", line 882, in full_dispatch_request\n",
      "    rv = self.handle_user_exception(e)\n",
      "         ^^^^^^^^^^^^^^^^^^^^^^^^^^^^^\n",
      "  File \"C:\\Users\\KIIT\\AppData\\Local\\Packages\\PythonSoftwareFoundation.Python.3.12_qbz5n2kfra8p0\\LocalCache\\local-packages\\Python312\\site-packages\\flask_cors\\extension.py\", line 178, in wrapped_function\n",
      "    return cors_after_request(app.make_response(f(*args, **kwargs)))\n",
      "                                                ^^^^^^^^^^^^^^^^^^\n",
      "  File \"C:\\Users\\KIIT\\AppData\\Local\\Packages\\PythonSoftwareFoundation.Python.3.12_qbz5n2kfra8p0\\LocalCache\\local-packages\\Python312\\site-packages\\flask\\app.py\", line 880, in full_dispatch_request\n",
      "    rv = self.dispatch_request()\n",
      "         ^^^^^^^^^^^^^^^^^^^^^^^\n",
      "  File \"C:\\Users\\KIIT\\AppData\\Local\\Packages\\PythonSoftwareFoundation.Python.3.12_qbz5n2kfra8p0\\LocalCache\\local-packages\\Python312\\site-packages\\flask\\app.py\", line 865, in dispatch_request\n",
      "    return self.ensure_sync(self.view_functions[rule.endpoint])(**view_args)  # type: ignore[no-any-return]\n",
      "           ^^^^^^^^^^^^^^^^^^^^^^^^^^^^^^^^^^^^^^^^^^^^^^^^^^^^^^^^^^^^^^^^^\n",
      "  File \"C:\\Users\\KIIT\\AppData\\Local\\Temp\\ipykernel_12004\\2255091930.py\", line 19, in predictpod\n",
      "    df_scaled = scaler.transform(df)\n",
      "                ^^^^^^^^^^^^^^^^^^^^\n",
      "  File \"C:\\Users\\KIIT\\AppData\\Local\\Packages\\PythonSoftwareFoundation.Python.3.12_qbz5n2kfra8p0\\LocalCache\\local-packages\\Python312\\site-packages\\sklearn\\utils\\_set_output.py\", line 313, in wrapped\n",
      "    data_to_wrap = f(self, X, *args, **kwargs)\n",
      "                   ^^^^^^^^^^^^^^^^^^^^^^^^^^^\n",
      "  File \"C:\\Users\\KIIT\\AppData\\Local\\Packages\\PythonSoftwareFoundation.Python.3.12_qbz5n2kfra8p0\\LocalCache\\local-packages\\Python312\\site-packages\\sklearn\\preprocessing\\_data.py\", line 1045, in transform\n",
      "    X = self._validate_data(\n",
      "        ^^^^^^^^^^^^^^^^^^^^\n",
      "  File \"C:\\Users\\KIIT\\AppData\\Local\\Packages\\PythonSoftwareFoundation.Python.3.12_qbz5n2kfra8p0\\LocalCache\\local-packages\\Python312\\site-packages\\sklearn\\base.py\", line 633, in _validate_data\n",
      "    out = check_array(X, input_name=\"X\", **check_params)\n",
      "          ^^^^^^^^^^^^^^^^^^^^^^^^^^^^^^^^^^^^^^^^^^^^^^\n",
      "  File \"C:\\Users\\KIIT\\AppData\\Local\\Packages\\PythonSoftwareFoundation.Python.3.12_qbz5n2kfra8p0\\LocalCache\\local-packages\\Python312\\site-packages\\sklearn\\utils\\validation.py\", line 1012, in check_array\n",
      "    array = _asarray_with_order(array, order=order, dtype=dtype, xp=xp)\n",
      "            ^^^^^^^^^^^^^^^^^^^^^^^^^^^^^^^^^^^^^^^^^^^^^^^^^^^^^^^^^^^\n",
      "  File \"C:\\Users\\KIIT\\AppData\\Local\\Packages\\PythonSoftwareFoundation.Python.3.12_qbz5n2kfra8p0\\LocalCache\\local-packages\\Python312\\site-packages\\sklearn\\utils\\_array_api.py\", line 751, in _asarray_with_order\n",
      "    array = numpy.asarray(array, order=order, dtype=dtype)\n",
      "            ^^^^^^^^^^^^^^^^^^^^^^^^^^^^^^^^^^^^^^^^^^^^^^\n",
      "  File \"C:\\Users\\KIIT\\AppData\\Local\\Packages\\PythonSoftwareFoundation.Python.3.12_qbz5n2kfra8p0\\LocalCache\\local-packages\\Python312\\site-packages\\pandas\\core\\generic.py\", line 2153, in __array__\n",
      "    arr = np.asarray(values, dtype=dtype)\n",
      "          ^^^^^^^^^^^^^^^^^^^^^^^^^^^^^^^\n",
      "ValueError: could not convert string to float: 'Employed'\n",
      "127.0.0.1 - - [02/Sep/2025 01:46:32] \"POST /predictpod HTTP/1.1\" 500 -\n"
     ]
    },
    {
     "name": "stdout",
     "output_type": "stream",
     "text": [
      "{'Age': 69, 'Gender': 0, 'Marital_Status': 1, 'Education_Level': 0, 'Employment_Status': 'Employed', 'Occupation': 'nn', 'Annual_Income': 33, 'Household_Size': 11, 'Dependents': 33, 'Home_Ownership': 0, 'Residence_Type': 'Apartment', 'Credit_History_Length': 33, 'Number_of_Credit_Cards': 33, 'Number_of_Loans': 33, 'Debt_to_Income_Ratio': 33, 'Total_Debt': 33, 'EMI': 33, 'Loan_Amount_Requested': 444, 'Repayment_Period_Months': 44, 'Credit_Card_Utilization_Rate': 33, 'Bank_Balance': 44, 'Savings_Balance': 44, 'Credit_Inquiries_Last12m': 33, 'OnTime_Payment_Rate': 33, 'Mobile_Data_Usage_GB': 44, 'Monthly_Call_Minutes': 4444, 'Monthly_SMS_Count': 44, 'No_of_Social_Accounts': 44, 'Avg_Daily_Social_Usage_Min': 4444, 'Facebook_Friends_Count': 444, 'Instagram_Followers_Count': 44, 'Monthly_Ecommerce_Spend': 44, 'Subscription_Service_Count': 44, 'Installment_Purchase_Count': 44, 'Avg_UPI_Transactions': 44, 'UPI_Count': 444, 'Avg_Monthly_UPI_Transaction_Value': 44, 'Utility_Bill_Payment_Timeliness': 'On time', 'SIM_Swap_History': 'None', 'No_of_Devices_Linked': 22}\n"
     ]
    },
    {
     "name": "stderr",
     "output_type": "stream",
     "text": [
      "127.0.0.1 - - [02/Sep/2025 02:19:14] \"OPTIONS /predictpod HTTP/1.1\" 200 -\n",
      "[2025-09-02 02:19:14,250] ERROR in app: Exception on /predictpod [POST]\n",
      "Traceback (most recent call last):\n",
      "  File \"C:\\Users\\KIIT\\AppData\\Local\\Packages\\PythonSoftwareFoundation.Python.3.12_qbz5n2kfra8p0\\LocalCache\\local-packages\\Python312\\site-packages\\flask\\app.py\", line 1473, in wsgi_app\n",
      "    response = self.full_dispatch_request()\n",
      "               ^^^^^^^^^^^^^^^^^^^^^^^^^^^^\n",
      "  File \"C:\\Users\\KIIT\\AppData\\Local\\Packages\\PythonSoftwareFoundation.Python.3.12_qbz5n2kfra8p0\\LocalCache\\local-packages\\Python312\\site-packages\\flask\\app.py\", line 882, in full_dispatch_request\n",
      "    rv = self.handle_user_exception(e)\n",
      "         ^^^^^^^^^^^^^^^^^^^^^^^^^^^^^\n",
      "  File \"C:\\Users\\KIIT\\AppData\\Local\\Packages\\PythonSoftwareFoundation.Python.3.12_qbz5n2kfra8p0\\LocalCache\\local-packages\\Python312\\site-packages\\flask_cors\\extension.py\", line 178, in wrapped_function\n",
      "    return cors_after_request(app.make_response(f(*args, **kwargs)))\n",
      "                                                ^^^^^^^^^^^^^^^^^^\n",
      "  File \"C:\\Users\\KIIT\\AppData\\Local\\Packages\\PythonSoftwareFoundation.Python.3.12_qbz5n2kfra8p0\\LocalCache\\local-packages\\Python312\\site-packages\\flask\\app.py\", line 880, in full_dispatch_request\n",
      "    rv = self.dispatch_request()\n",
      "         ^^^^^^^^^^^^^^^^^^^^^^^\n",
      "  File \"C:\\Users\\KIIT\\AppData\\Local\\Packages\\PythonSoftwareFoundation.Python.3.12_qbz5n2kfra8p0\\LocalCache\\local-packages\\Python312\\site-packages\\flask\\app.py\", line 865, in dispatch_request\n",
      "    return self.ensure_sync(self.view_functions[rule.endpoint])(**view_args)  # type: ignore[no-any-return]\n",
      "           ^^^^^^^^^^^^^^^^^^^^^^^^^^^^^^^^^^^^^^^^^^^^^^^^^^^^^^^^^^^^^^^^^\n",
      "  File \"C:\\Users\\KIIT\\AppData\\Local\\Temp\\ipykernel_12004\\2255091930.py\", line 19, in predictpod\n",
      "    df_scaled = scaler.transform(df)\n",
      "                ^^^^^^^^^^^^^^^^^^^^\n",
      "  File \"C:\\Users\\KIIT\\AppData\\Local\\Packages\\PythonSoftwareFoundation.Python.3.12_qbz5n2kfra8p0\\LocalCache\\local-packages\\Python312\\site-packages\\sklearn\\utils\\_set_output.py\", line 313, in wrapped\n",
      "    data_to_wrap = f(self, X, *args, **kwargs)\n",
      "                   ^^^^^^^^^^^^^^^^^^^^^^^^^^^\n",
      "  File \"C:\\Users\\KIIT\\AppData\\Local\\Packages\\PythonSoftwareFoundation.Python.3.12_qbz5n2kfra8p0\\LocalCache\\local-packages\\Python312\\site-packages\\sklearn\\preprocessing\\_data.py\", line 1045, in transform\n",
      "    X = self._validate_data(\n",
      "        ^^^^^^^^^^^^^^^^^^^^\n",
      "  File \"C:\\Users\\KIIT\\AppData\\Local\\Packages\\PythonSoftwareFoundation.Python.3.12_qbz5n2kfra8p0\\LocalCache\\local-packages\\Python312\\site-packages\\sklearn\\base.py\", line 633, in _validate_data\n",
      "    out = check_array(X, input_name=\"X\", **check_params)\n",
      "          ^^^^^^^^^^^^^^^^^^^^^^^^^^^^^^^^^^^^^^^^^^^^^^\n",
      "  File \"C:\\Users\\KIIT\\AppData\\Local\\Packages\\PythonSoftwareFoundation.Python.3.12_qbz5n2kfra8p0\\LocalCache\\local-packages\\Python312\\site-packages\\sklearn\\utils\\validation.py\", line 1012, in check_array\n",
      "    array = _asarray_with_order(array, order=order, dtype=dtype, xp=xp)\n",
      "            ^^^^^^^^^^^^^^^^^^^^^^^^^^^^^^^^^^^^^^^^^^^^^^^^^^^^^^^^^^^\n",
      "  File \"C:\\Users\\KIIT\\AppData\\Local\\Packages\\PythonSoftwareFoundation.Python.3.12_qbz5n2kfra8p0\\LocalCache\\local-packages\\Python312\\site-packages\\sklearn\\utils\\_array_api.py\", line 751, in _asarray_with_order\n",
      "    array = numpy.asarray(array, order=order, dtype=dtype)\n",
      "            ^^^^^^^^^^^^^^^^^^^^^^^^^^^^^^^^^^^^^^^^^^^^^^\n",
      "  File \"C:\\Users\\KIIT\\AppData\\Local\\Packages\\PythonSoftwareFoundation.Python.3.12_qbz5n2kfra8p0\\LocalCache\\local-packages\\Python312\\site-packages\\pandas\\core\\generic.py\", line 2153, in __array__\n",
      "    arr = np.asarray(values, dtype=dtype)\n",
      "          ^^^^^^^^^^^^^^^^^^^^^^^^^^^^^^^\n",
      "ValueError: could not convert string to float: 'On time'\n",
      "127.0.0.1 - - [02/Sep/2025 02:19:14] \"POST /predictpod HTTP/1.1\" 500 -\n"
     ]
    },
    {
     "name": "stdout",
     "output_type": "stream",
     "text": [
      "{'Age': 69, 'Gender': 0, 'Marital_Status': 1, 'Education_Level': 0, 'Employment_Status': 0.72, 'Occupation': 0.67, 'Annual_Income': 33, 'Household_Size': 11, 'Dependents': 33, 'Home_Ownership': 0, 'Residence_Type': 0.33, 'Credit_History_Length': 33, 'Number_of_Credit_Cards': 33, 'Number_of_Loans': 33, 'Debt_to_Income_Ratio': 33, 'Total_Debt': 33, 'EMI': 33, 'Loan_Amount_Requested': 444, 'Repayment_Period_Months': 44, 'Credit_Card_Utilization_Rate': 33, 'Bank_Balance': 44, 'Savings_Balance': 44, 'Credit_Inquiries_Last12m': 33, 'OnTime_Payment_Rate': 33, 'Mobile_Data_Usage_GB': 44, 'Monthly_Call_Minutes': 4444, 'Monthly_SMS_Count': 44, 'No_of_Social_Accounts': 44, 'Avg_Daily_Social_Usage_Min': 4444, 'Facebook_Friends_Count': 444, 'Instagram_Followers_Count': 44, 'Monthly_Ecommerce_Spend': 44, 'Subscription_Service_Count': 44, 'Installment_Purchase_Count': 44, 'Avg_UPI_Transactions': 44, 'UPI_Count': 444, 'Avg_Monthly_UPI_Transaction_Value': 44, 'Utility_Bill_Payment_Timeliness': 'On time', 'SIM_Swap_History': 'None', 'No_of_Devices_Linked': 22}\n"
     ]
    },
    {
     "name": "stderr",
     "output_type": "stream",
     "text": [
      "127.0.0.1 - - [02/Sep/2025 02:24:54] \"OPTIONS /predictpod HTTP/1.1\" 200 -\n",
      "[2025-09-02 02:24:54,611] ERROR in app: Exception on /predictpod [POST]\n",
      "Traceback (most recent call last):\n",
      "  File \"C:\\Users\\KIIT\\AppData\\Local\\Packages\\PythonSoftwareFoundation.Python.3.12_qbz5n2kfra8p0\\LocalCache\\local-packages\\Python312\\site-packages\\flask\\app.py\", line 1473, in wsgi_app\n",
      "    response = self.full_dispatch_request()\n",
      "               ^^^^^^^^^^^^^^^^^^^^^^^^^^^^\n",
      "  File \"C:\\Users\\KIIT\\AppData\\Local\\Packages\\PythonSoftwareFoundation.Python.3.12_qbz5n2kfra8p0\\LocalCache\\local-packages\\Python312\\site-packages\\flask\\app.py\", line 882, in full_dispatch_request\n",
      "    rv = self.handle_user_exception(e)\n",
      "         ^^^^^^^^^^^^^^^^^^^^^^^^^^^^^\n",
      "  File \"C:\\Users\\KIIT\\AppData\\Local\\Packages\\PythonSoftwareFoundation.Python.3.12_qbz5n2kfra8p0\\LocalCache\\local-packages\\Python312\\site-packages\\flask_cors\\extension.py\", line 178, in wrapped_function\n",
      "    return cors_after_request(app.make_response(f(*args, **kwargs)))\n",
      "                                                ^^^^^^^^^^^^^^^^^^\n",
      "  File \"C:\\Users\\KIIT\\AppData\\Local\\Packages\\PythonSoftwareFoundation.Python.3.12_qbz5n2kfra8p0\\LocalCache\\local-packages\\Python312\\site-packages\\flask\\app.py\", line 880, in full_dispatch_request\n",
      "    rv = self.dispatch_request()\n",
      "         ^^^^^^^^^^^^^^^^^^^^^^^\n",
      "  File \"C:\\Users\\KIIT\\AppData\\Local\\Packages\\PythonSoftwareFoundation.Python.3.12_qbz5n2kfra8p0\\LocalCache\\local-packages\\Python312\\site-packages\\flask\\app.py\", line 865, in dispatch_request\n",
      "    return self.ensure_sync(self.view_functions[rule.endpoint])(**view_args)  # type: ignore[no-any-return]\n",
      "           ^^^^^^^^^^^^^^^^^^^^^^^^^^^^^^^^^^^^^^^^^^^^^^^^^^^^^^^^^^^^^^^^^\n",
      "  File \"C:\\Users\\KIIT\\AppData\\Local\\Temp\\ipykernel_12004\\2255091930.py\", line 19, in predictpod\n",
      "    df_scaled = scaler.transform(df)\n",
      "                ^^^^^^^^^^^^^^^^^^^^\n",
      "  File \"C:\\Users\\KIIT\\AppData\\Local\\Packages\\PythonSoftwareFoundation.Python.3.12_qbz5n2kfra8p0\\LocalCache\\local-packages\\Python312\\site-packages\\sklearn\\utils\\_set_output.py\", line 313, in wrapped\n",
      "    data_to_wrap = f(self, X, *args, **kwargs)\n",
      "                   ^^^^^^^^^^^^^^^^^^^^^^^^^^^\n",
      "  File \"C:\\Users\\KIIT\\AppData\\Local\\Packages\\PythonSoftwareFoundation.Python.3.12_qbz5n2kfra8p0\\LocalCache\\local-packages\\Python312\\site-packages\\sklearn\\preprocessing\\_data.py\", line 1045, in transform\n",
      "    X = self._validate_data(\n",
      "        ^^^^^^^^^^^^^^^^^^^^\n",
      "  File \"C:\\Users\\KIIT\\AppData\\Local\\Packages\\PythonSoftwareFoundation.Python.3.12_qbz5n2kfra8p0\\LocalCache\\local-packages\\Python312\\site-packages\\sklearn\\base.py\", line 633, in _validate_data\n",
      "    out = check_array(X, input_name=\"X\", **check_params)\n",
      "          ^^^^^^^^^^^^^^^^^^^^^^^^^^^^^^^^^^^^^^^^^^^^^^\n",
      "  File \"C:\\Users\\KIIT\\AppData\\Local\\Packages\\PythonSoftwareFoundation.Python.3.12_qbz5n2kfra8p0\\LocalCache\\local-packages\\Python312\\site-packages\\sklearn\\utils\\validation.py\", line 1012, in check_array\n",
      "    array = _asarray_with_order(array, order=order, dtype=dtype, xp=xp)\n",
      "            ^^^^^^^^^^^^^^^^^^^^^^^^^^^^^^^^^^^^^^^^^^^^^^^^^^^^^^^^^^^\n",
      "  File \"C:\\Users\\KIIT\\AppData\\Local\\Packages\\PythonSoftwareFoundation.Python.3.12_qbz5n2kfra8p0\\LocalCache\\local-packages\\Python312\\site-packages\\sklearn\\utils\\_array_api.py\", line 751, in _asarray_with_order\n",
      "    array = numpy.asarray(array, order=order, dtype=dtype)\n",
      "            ^^^^^^^^^^^^^^^^^^^^^^^^^^^^^^^^^^^^^^^^^^^^^^\n",
      "  File \"C:\\Users\\KIIT\\AppData\\Local\\Packages\\PythonSoftwareFoundation.Python.3.12_qbz5n2kfra8p0\\LocalCache\\local-packages\\Python312\\site-packages\\pandas\\core\\generic.py\", line 2153, in __array__\n",
      "    arr = np.asarray(values, dtype=dtype)\n",
      "          ^^^^^^^^^^^^^^^^^^^^^^^^^^^^^^^\n",
      "ValueError: could not convert string to float: 'On time'\n",
      "127.0.0.1 - - [02/Sep/2025 02:24:54] \"POST /predictpod HTTP/1.1\" 500 -\n"
     ]
    },
    {
     "name": "stdout",
     "output_type": "stream",
     "text": [
      "{'Age': 69, 'Gender': 0, 'Marital_Status': 1, 'Education_Level': 0, 'Employment_Status': 0.72, 'Occupation': 0.67, 'Annual_Income': 33, 'Household_Size': 11, 'Dependents': 33, 'Home_Ownership': None, 'Residence_Type': 0.54, 'Credit_History_Length': 33, 'Number_of_Credit_Cards': 33, 'Number_of_Loans': 33, 'Debt_to_Income_Ratio': 33, 'Total_Debt': 33, 'EMI': 33, 'Loan_Amount_Requested': 444, 'Repayment_Period_Months': 44, 'Credit_Card_Utilization_Rate': 33, 'Bank_Balance': 44, 'Savings_Balance': 44, 'Credit_Inquiries_Last12m': 33, 'OnTime_Payment_Rate': 33, 'Mobile_Data_Usage_GB': 44, 'Monthly_Call_Minutes': 4444, 'Monthly_SMS_Count': 44, 'No_of_Social_Accounts': 44, 'Avg_Daily_Social_Usage_Min': 4444, 'Facebook_Friends_Count': 444, 'Instagram_Followers_Count': 44, 'Monthly_Ecommerce_Spend': 44, 'Subscription_Service_Count': 44, 'Installment_Purchase_Count': 44, 'Avg_UPI_Transactions': 44, 'UPI_Count': 444, 'Avg_Monthly_UPI_Transaction_Value': 44, 'Utility_Bill_Payment_Timeliness': 'On time', 'SIM_Swap_History': 'None', 'No_of_Devices_Linked': 22}\n"
     ]
    },
    {
     "name": "stderr",
     "output_type": "stream",
     "text": [
      "127.0.0.1 - - [02/Sep/2025 02:31:05] \"OPTIONS /predictpod HTTP/1.1\" 200 -\n",
      "[2025-09-02 02:31:05,270] ERROR in app: Exception on /predictpod [POST]\n",
      "Traceback (most recent call last):\n",
      "  File \"C:\\Users\\KIIT\\AppData\\Local\\Packages\\PythonSoftwareFoundation.Python.3.12_qbz5n2kfra8p0\\LocalCache\\local-packages\\Python312\\site-packages\\flask\\app.py\", line 1473, in wsgi_app\n",
      "    response = self.full_dispatch_request()\n",
      "               ^^^^^^^^^^^^^^^^^^^^^^^^^^^^\n",
      "  File \"C:\\Users\\KIIT\\AppData\\Local\\Packages\\PythonSoftwareFoundation.Python.3.12_qbz5n2kfra8p0\\LocalCache\\local-packages\\Python312\\site-packages\\flask\\app.py\", line 882, in full_dispatch_request\n",
      "    rv = self.handle_user_exception(e)\n",
      "         ^^^^^^^^^^^^^^^^^^^^^^^^^^^^^\n",
      "  File \"C:\\Users\\KIIT\\AppData\\Local\\Packages\\PythonSoftwareFoundation.Python.3.12_qbz5n2kfra8p0\\LocalCache\\local-packages\\Python312\\site-packages\\flask_cors\\extension.py\", line 178, in wrapped_function\n",
      "    return cors_after_request(app.make_response(f(*args, **kwargs)))\n",
      "                                                ^^^^^^^^^^^^^^^^^^\n",
      "  File \"C:\\Users\\KIIT\\AppData\\Local\\Packages\\PythonSoftwareFoundation.Python.3.12_qbz5n2kfra8p0\\LocalCache\\local-packages\\Python312\\site-packages\\flask\\app.py\", line 880, in full_dispatch_request\n",
      "    rv = self.dispatch_request()\n",
      "         ^^^^^^^^^^^^^^^^^^^^^^^\n",
      "  File \"C:\\Users\\KIIT\\AppData\\Local\\Packages\\PythonSoftwareFoundation.Python.3.12_qbz5n2kfra8p0\\LocalCache\\local-packages\\Python312\\site-packages\\flask\\app.py\", line 865, in dispatch_request\n",
      "    return self.ensure_sync(self.view_functions[rule.endpoint])(**view_args)  # type: ignore[no-any-return]\n",
      "           ^^^^^^^^^^^^^^^^^^^^^^^^^^^^^^^^^^^^^^^^^^^^^^^^^^^^^^^^^^^^^^^^^\n",
      "  File \"C:\\Users\\KIIT\\AppData\\Local\\Temp\\ipykernel_12004\\2255091930.py\", line 19, in predictpod\n",
      "    df_scaled = scaler.transform(df)\n",
      "                ^^^^^^^^^^^^^^^^^^^^\n",
      "  File \"C:\\Users\\KIIT\\AppData\\Local\\Packages\\PythonSoftwareFoundation.Python.3.12_qbz5n2kfra8p0\\LocalCache\\local-packages\\Python312\\site-packages\\sklearn\\utils\\_set_output.py\", line 313, in wrapped\n",
      "    data_to_wrap = f(self, X, *args, **kwargs)\n",
      "                   ^^^^^^^^^^^^^^^^^^^^^^^^^^^\n",
      "  File \"C:\\Users\\KIIT\\AppData\\Local\\Packages\\PythonSoftwareFoundation.Python.3.12_qbz5n2kfra8p0\\LocalCache\\local-packages\\Python312\\site-packages\\sklearn\\preprocessing\\_data.py\", line 1045, in transform\n",
      "    X = self._validate_data(\n",
      "        ^^^^^^^^^^^^^^^^^^^^\n",
      "  File \"C:\\Users\\KIIT\\AppData\\Local\\Packages\\PythonSoftwareFoundation.Python.3.12_qbz5n2kfra8p0\\LocalCache\\local-packages\\Python312\\site-packages\\sklearn\\base.py\", line 633, in _validate_data\n",
      "    out = check_array(X, input_name=\"X\", **check_params)\n",
      "          ^^^^^^^^^^^^^^^^^^^^^^^^^^^^^^^^^^^^^^^^^^^^^^\n",
      "  File \"C:\\Users\\KIIT\\AppData\\Local\\Packages\\PythonSoftwareFoundation.Python.3.12_qbz5n2kfra8p0\\LocalCache\\local-packages\\Python312\\site-packages\\sklearn\\utils\\validation.py\", line 1012, in check_array\n",
      "    array = _asarray_with_order(array, order=order, dtype=dtype, xp=xp)\n",
      "            ^^^^^^^^^^^^^^^^^^^^^^^^^^^^^^^^^^^^^^^^^^^^^^^^^^^^^^^^^^^\n",
      "  File \"C:\\Users\\KIIT\\AppData\\Local\\Packages\\PythonSoftwareFoundation.Python.3.12_qbz5n2kfra8p0\\LocalCache\\local-packages\\Python312\\site-packages\\sklearn\\utils\\_array_api.py\", line 751, in _asarray_with_order\n",
      "    array = numpy.asarray(array, order=order, dtype=dtype)\n",
      "            ^^^^^^^^^^^^^^^^^^^^^^^^^^^^^^^^^^^^^^^^^^^^^^\n",
      "  File \"C:\\Users\\KIIT\\AppData\\Local\\Packages\\PythonSoftwareFoundation.Python.3.12_qbz5n2kfra8p0\\LocalCache\\local-packages\\Python312\\site-packages\\pandas\\core\\generic.py\", line 2153, in __array__\n",
      "    arr = np.asarray(values, dtype=dtype)\n",
      "          ^^^^^^^^^^^^^^^^^^^^^^^^^^^^^^^\n",
      "ValueError: could not convert string to float: 'None'\n",
      "127.0.0.1 - - [02/Sep/2025 02:31:05] \"POST /predictpod HTTP/1.1\" 500 -\n"
     ]
    },
    {
     "name": "stdout",
     "output_type": "stream",
     "text": [
      "{'Age': 69, 'Gender': 0, 'Marital_Status': 1, 'Education_Level': 0, 'Employment_Status': 0.72, 'Occupation': 0.67, 'Annual_Income': 33, 'Household_Size': 11, 'Dependents': 33, 'Home_Ownership': None, 'Residence_Type': 0.54, 'Credit_History_Length': 33, 'Number_of_Credit_Cards': 33, 'Number_of_Loans': 33, 'Debt_to_Income_Ratio': 33, 'Total_Debt': 33, 'EMI': 33, 'Loan_Amount_Requested': 444, 'Repayment_Period_Months': 44, 'Credit_Card_Utilization_Rate': 2, 'Bank_Balance': 44, 'Savings_Balance': 44, 'Credit_Inquiries_Last12m': 33, 'OnTime_Payment_Rate': 33, 'Mobile_Data_Usage_GB': 44, 'Monthly_Call_Minutes': 4444, 'Monthly_SMS_Count': 44, 'No_of_Social_Accounts': 44, 'Avg_Daily_Social_Usage_Min': 4444, 'Facebook_Friends_Count': 444, 'Instagram_Followers_Count': 44, 'Monthly_Ecommerce_Spend': 44, 'Subscription_Service_Count': 44, 'Installment_Purchase_Count': 44, 'Avg_UPI_Transactions': 44, 'UPI_Count': 444, 'Avg_Monthly_UPI_Transaction_Value': 44, 'Utility_Bill_Payment_Timeliness': 12, 'SIM_Swap_History': 'None', 'No_of_Devices_Linked': 22}\n"
     ]
    },
    {
     "name": "stderr",
     "output_type": "stream",
     "text": [
      "127.0.0.1 - - [02/Sep/2025 02:36:59] \"OPTIONS /predictpod HTTP/1.1\" 200 -\n",
      "127.0.0.1 - - [02/Sep/2025 02:36:59] \"POST /predictpod HTTP/1.1\" 200 -\n"
     ]
    },
    {
     "name": "stdout",
     "output_type": "stream",
     "text": [
      "{'Age': 22, 'Gender': 1, 'Marital_Status': 1, 'Education_Level': 0, 'Employment_Status': 0.72, 'Occupation': 0.67, 'Annual_Income': 22, 'Household_Size': 22, 'Dependents': 22, 'Home_Ownership': 2, 'Residence_Type': 0.54, 'Credit_History_Length': 22, 'Number_of_Credit_Cards': 22, 'Number_of_Loans': 22, 'Debt_to_Income_Ratio': 22, 'Total_Debt': 22, 'EMI': 22, 'Loan_Amount_Requested': 22, 'Repayment_Period_Months': 22, 'Credit_Card_Utilization_Rate': 22, 'Bank_Balance': 22, 'Savings_Balance': 2222, 'Credit_Inquiries_Last12m': 22, 'OnTime_Payment_Rate': 22, 'Mobile_Data_Usage_GB': 22, 'Monthly_Call_Minutes': 22, 'Monthly_SMS_Count': 22, 'No_of_Social_Accounts': 22, 'Avg_Daily_Social_Usage_Min': 2222, 'Facebook_Friends_Count': 22, 'Instagram_Followers_Count': 222, 'Monthly_Ecommerce_Spend': 22, 'Subscription_Service_Count': 2222, 'Installment_Purchase_Count': 222, 'Avg_UPI_Transactions': 22, 'UPI_Count': 222, 'Avg_Monthly_UPI_Transaction_Value': 22, 'Utility_Bill_Payment_Timeliness': 22, 'SIM_Swap_History': 22, 'No_of_Devices_Linked': 22}\n"
     ]
    },
    {
     "name": "stderr",
     "output_type": "stream",
     "text": [
      "127.0.0.1 - - [02/Sep/2025 02:43:01] \"OPTIONS /predictpod HTTP/1.1\" 200 -\n",
      "127.0.0.1 - - [02/Sep/2025 02:43:01] \"POST /predictpod HTTP/1.1\" 200 -\n"
     ]
    },
    {
     "name": "stdout",
     "output_type": "stream",
     "text": [
      "{'Age': 22, 'Gender': 1, 'Marital_Status': 1, 'Education_Level': 0, 'Employment_Status': 0.72, 'Occupation': 0.67, 'Annual_Income': 22, 'Household_Size': 22, 'Dependents': 22, 'Home_Ownership': 2, 'Residence_Type': 0.61, 'Credit_History_Length': 22, 'Number_of_Credit_Cards': 22, 'Number_of_Loans': 22, 'Debt_to_Income_Ratio': 22, 'Total_Debt': 22, 'EMI': 22, 'Loan_Amount_Requested': 22, 'Repayment_Period_Months': 22, 'Credit_Card_Utilization_Rate': 22, 'Bank_Balance': 22, 'Savings_Balance': 2222, 'Credit_Inquiries_Last12m': 22, 'OnTime_Payment_Rate': 22, 'Mobile_Data_Usage_GB': 22, 'Monthly_Call_Minutes': 22, 'Monthly_SMS_Count': 22, 'No_of_Social_Accounts': 22, 'Avg_Daily_Social_Usage_Min': 2222, 'Facebook_Friends_Count': 22, 'Instagram_Followers_Count': 222, 'Monthly_Ecommerce_Spend': 22, 'Subscription_Service_Count': 2222, 'Installment_Purchase_Count': 222, 'Avg_UPI_Transactions': 22, 'UPI_Count': 222, 'Avg_Monthly_UPI_Transaction_Value': 22, 'Utility_Bill_Payment_Timeliness': 22, 'SIM_Swap_History': 22, 'No_of_Devices_Linked': 22}\n"
     ]
    },
    {
     "name": "stderr",
     "output_type": "stream",
     "text": [
      "127.0.0.1 - - [02/Sep/2025 02:43:25] \"OPTIONS /predictpod HTTP/1.1\" 200 -\n",
      "127.0.0.1 - - [02/Sep/2025 02:43:25] \"POST /predictpod HTTP/1.1\" 200 -\n"
     ]
    },
    {
     "name": "stdout",
     "output_type": "stream",
     "text": [
      "{'Age': 22, 'Gender': 1, 'Marital_Status': 1, 'Education_Level': 0, 'Employment_Status': 0.72, 'Occupation': 0.67, 'Annual_Income': 22, 'Household_Size': 22, 'Dependents': 22, 'Home_Ownership': 2, 'Residence_Type': 0.61, 'Credit_History_Length': 22, 'Number_of_Credit_Cards': 22, 'Number_of_Loans': 22, 'Debt_to_Income_Ratio': 22, 'Total_Debt': 22, 'EMI': 22, 'Loan_Amount_Requested': 22, 'Repayment_Period_Months': 22, 'Credit_Card_Utilization_Rate': 22, 'Bank_Balance': 22, 'Savings_Balance': 2222, 'Credit_Inquiries_Last12m': 22, 'OnTime_Payment_Rate': 22, 'Mobile_Data_Usage_GB': 22, 'Monthly_Call_Minutes': 22, 'Monthly_SMS_Count': 22, 'No_of_Social_Accounts': 22, 'Avg_Daily_Social_Usage_Min': 2222, 'Facebook_Friends_Count': 22, 'Instagram_Followers_Count': 222, 'Monthly_Ecommerce_Spend': 22, 'Subscription_Service_Count': 2222, 'Installment_Purchase_Count': 222, 'Avg_UPI_Transactions': 22, 'UPI_Count': 222, 'Avg_Monthly_UPI_Transaction_Value': 22, 'Utility_Bill_Payment_Timeliness': 22, 'SIM_Swap_History': 22, 'No_of_Devices_Linked': 22}\n"
     ]
    },
    {
     "name": "stderr",
     "output_type": "stream",
     "text": [
      "127.0.0.1 - - [02/Sep/2025 02:44:16] \"OPTIONS /predictpod HTTP/1.1\" 200 -\n",
      "127.0.0.1 - - [02/Sep/2025 02:44:16] \"POST /predictpod HTTP/1.1\" 200 -\n"
     ]
    },
    {
     "name": "stdout",
     "output_type": "stream",
     "text": [
      "{'Age': 22, 'Gender': 1, 'Marital_Status': 1, 'Education_Level': 0, 'Employment_Status': 0.72, 'Occupation': 0.67, 'Annual_Income': 22, 'Household_Size': 22, 'Dependents': 22, 'Home_Ownership': 2, 'Residence_Type': 0.61, 'Credit_History_Length': 22, 'Number_of_Credit_Cards': 22, 'Number_of_Loans': 22, 'Debt_to_Income_Ratio': 22, 'Total_Debt': 22, 'EMI': 22, 'Loan_Amount_Requested': 22, 'Repayment_Period_Months': 22, 'Credit_Card_Utilization_Rate': 22, 'Bank_Balance': 22, 'Savings_Balance': 2222, 'Credit_Inquiries_Last12m': 22, 'OnTime_Payment_Rate': 22, 'Mobile_Data_Usage_GB': 22, 'Monthly_Call_Minutes': 22, 'Monthly_SMS_Count': 22, 'No_of_Social_Accounts': 22, 'Avg_Daily_Social_Usage_Min': 2222, 'Facebook_Friends_Count': 22, 'Instagram_Followers_Count': 222, 'Monthly_Ecommerce_Spend': 22, 'Subscription_Service_Count': 2222, 'Installment_Purchase_Count': 222, 'Avg_UPI_Transactions': 22, 'UPI_Count': 222, 'Avg_Monthly_UPI_Transaction_Value': 22, 'Utility_Bill_Payment_Timeliness': 22, 'SIM_Swap_History': 22, 'No_of_Devices_Linked': 22}\n"
     ]
    },
    {
     "name": "stderr",
     "output_type": "stream",
     "text": [
      "127.0.0.1 - - [02/Sep/2025 02:44:33] \"OPTIONS /predictpod HTTP/1.1\" 200 -\n",
      "127.0.0.1 - - [02/Sep/2025 02:44:33] \"POST /predictpod HTTP/1.1\" 200 -\n"
     ]
    },
    {
     "name": "stdout",
     "output_type": "stream",
     "text": [
      "{'Age': 22, 'Gender': 1, 'Marital_Status': 1, 'Education_Level': 0, 'Employment_Status': 0.72, 'Occupation': 0.67, 'Annual_Income': 22, 'Household_Size': 22, 'Dependents': 22, 'Home_Ownership': 2, 'Residence_Type': 0.61, 'Credit_History_Length': 22, 'Number_of_Credit_Cards': 22, 'Number_of_Loans': 22, 'Debt_to_Income_Ratio': 22, 'Total_Debt': 22, 'EMI': 22, 'Loan_Amount_Requested': 22, 'Repayment_Period_Months': 22, 'Credit_Card_Utilization_Rate': 22, 'Bank_Balance': 22, 'Savings_Balance': 2222, 'Credit_Inquiries_Last12m': 22, 'OnTime_Payment_Rate': 22, 'Mobile_Data_Usage_GB': 22, 'Monthly_Call_Minutes': 22, 'Monthly_SMS_Count': 22, 'No_of_Social_Accounts': 22, 'Avg_Daily_Social_Usage_Min': 2222, 'Facebook_Friends_Count': 22, 'Instagram_Followers_Count': 222, 'Monthly_Ecommerce_Spend': 22, 'Subscription_Service_Count': 2222, 'Installment_Purchase_Count': 222, 'Avg_UPI_Transactions': 22, 'UPI_Count': 222, 'Avg_Monthly_UPI_Transaction_Value': 22, 'Utility_Bill_Payment_Timeliness': 22, 'SIM_Swap_History': 22, 'No_of_Devices_Linked': 22}\n"
     ]
    },
    {
     "name": "stderr",
     "output_type": "stream",
     "text": [
      "127.0.0.1 - - [02/Sep/2025 02:44:53] \"OPTIONS /predictpod HTTP/1.1\" 200 -\n",
      "127.0.0.1 - - [02/Sep/2025 02:44:53] \"POST /predictpod HTTP/1.1\" 200 -\n"
     ]
    },
    {
     "name": "stdout",
     "output_type": "stream",
     "text": [
      "{'Age': 22, 'Gender': 1, 'Marital_Status': 1, 'Education_Level': 0, 'Employment_Status': 0.72, 'Occupation': 0.67, 'Annual_Income': 22, 'Household_Size': 22, 'Dependents': 22, 'Home_Ownership': 2, 'Residence_Type': 0.61, 'Credit_History_Length': 22, 'Number_of_Credit_Cards': 22, 'Number_of_Loans': 22, 'Debt_to_Income_Ratio': 22, 'Total_Debt': 22, 'EMI': 22, 'Loan_Amount_Requested': 22, 'Repayment_Period_Months': 22, 'Credit_Card_Utilization_Rate': 22, 'Bank_Balance': 22, 'Savings_Balance': 2222, 'Credit_Inquiries_Last12m': 22, 'OnTime_Payment_Rate': 22, 'Mobile_Data_Usage_GB': 22, 'Monthly_Call_Minutes': 22, 'Monthly_SMS_Count': 22, 'No_of_Social_Accounts': 22, 'Avg_Daily_Social_Usage_Min': 2222, 'Facebook_Friends_Count': 22, 'Instagram_Followers_Count': 222, 'Monthly_Ecommerce_Spend': 22, 'Subscription_Service_Count': 2222, 'Installment_Purchase_Count': 222, 'Avg_UPI_Transactions': 22, 'UPI_Count': 222, 'Avg_Monthly_UPI_Transaction_Value': 22, 'Utility_Bill_Payment_Timeliness': 22, 'SIM_Swap_History': 22, 'No_of_Devices_Linked': 22}\n"
     ]
    },
    {
     "name": "stderr",
     "output_type": "stream",
     "text": [
      "127.0.0.1 - - [02/Sep/2025 02:46:39] \"OPTIONS /predictpod HTTP/1.1\" 200 -\n",
      "127.0.0.1 - - [02/Sep/2025 02:46:39] \"POST /predictpod HTTP/1.1\" 200 -\n"
     ]
    },
    {
     "name": "stdout",
     "output_type": "stream",
     "text": [
      "{'Age': 22, 'Gender': 1, 'Marital_Status': 1, 'Education_Level': 0, 'Employment_Status': 0.72, 'Occupation': 0.67, 'Annual_Income': 22, 'Household_Size': 22, 'Dependents': 22, 'Home_Ownership': 2, 'Residence_Type': 0.61, 'Credit_History_Length': 22, 'Number_of_Credit_Cards': 22, 'Number_of_Loans': 22, 'Debt_to_Income_Ratio': 22, 'Total_Debt': 22, 'EMI': 22, 'Loan_Amount_Requested': 22, 'Repayment_Period_Months': 22, 'Credit_Card_Utilization_Rate': 22, 'Bank_Balance': 22, 'Savings_Balance': 2222, 'Credit_Inquiries_Last12m': 22, 'OnTime_Payment_Rate': 22, 'Mobile_Data_Usage_GB': 22, 'Monthly_Call_Minutes': 22, 'Monthly_SMS_Count': 22, 'No_of_Social_Accounts': 22, 'Avg_Daily_Social_Usage_Min': 2222, 'Facebook_Friends_Count': 22, 'Instagram_Followers_Count': 222, 'Monthly_Ecommerce_Spend': 22, 'Subscription_Service_Count': 2222, 'Installment_Purchase_Count': 222, 'Avg_UPI_Transactions': 22, 'UPI_Count': 222, 'Avg_Monthly_UPI_Transaction_Value': 22, 'Utility_Bill_Payment_Timeliness': 22, 'SIM_Swap_History': 22, 'No_of_Devices_Linked': 22}\n"
     ]
    }
   ],
   "source": [
    "app = Flask(__name__)\n",
    "CORS(app)  # allows all origins by default\n",
    "\n",
    "\n",
    "@app.route(\"/predictpod\", methods=[\"POST\"])\n",
    "\n",
    "def predictpod():\n",
    "    data = request.get_json()\n",
    "    \n",
    "    # Convert dict to list for DataFrame\n",
    "    if isinstance(data, dict):\n",
    "        data = [data]\n",
    "\n",
    "    df = pd.DataFrame(data)\n",
    "\n",
    "    # Apply scaling\n",
    "    df_scaled = scaler.transform(df)\n",
    "\n",
    "    # Make prediction\n",
    "    ans = model.predict(df_scaled)\n",
    "\n",
    "    result = ans.tolist()\n",
    "    return jsonify({\"PoD\": result})\n",
    "\n",
    "@app.route(\"/predictcs\",methods=[\"POST\"])\n",
    "\n",
    "def predictcs():\n",
    "    data = request.get_json()\n",
    "    print(\"Incoming data:\", data)\n",
    "\n",
    "    # Convert dict to list for DataFrame\n",
    "    if isinstance(data, dict):\n",
    "        data = [data]\n",
    "\n",
    "    df = pd.DataFrame(data)\n",
    "\n",
    "    # Apply scaling\n",
    "    df_scaled = scaler.transform(df)\n",
    "\n",
    "    # Make prediction\n",
    "    ans = model.predict(df_scaled)\n",
    "\n",
    "    result = ans.tolist()\n",
    "    return jsonify({\"Credit Score\": result})\n",
    "\n",
    "\n",
    "if __name__ == \"__main__\":\n",
    "    app.run()\n"
   ]
  },
  {
   "cell_type": "code",
   "execution_count": null,
   "id": "94ee1fb2",
   "metadata": {},
   "outputs": [],
   "source": []
  },
  {
   "cell_type": "code",
   "execution_count": null,
   "id": "b4fdb1f2",
   "metadata": {},
   "outputs": [],
   "source": []
  }
 ],
 "metadata": {
  "kernelspec": {
   "display_name": "Python 3",
   "language": "python",
   "name": "python3"
  },
  "language_info": {
   "codemirror_mode": {
    "name": "ipython",
    "version": 3
   },
   "file_extension": ".py",
   "mimetype": "text/x-python",
   "name": "python",
   "nbconvert_exporter": "python",
   "pygments_lexer": "ipython3",
   "version": "3.12.10"
  }
 },
 "nbformat": 4,
 "nbformat_minor": 5
}
